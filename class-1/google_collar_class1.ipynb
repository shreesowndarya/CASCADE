{
  "nbformat": 4,
  "nbformat_minor": 0,
  "metadata": {
    "colab": {
      "name": "google collar class1.ipynb",
      "provenance": [],
      "authorship_tag": "ABX9TyN1w5KpYQw34vbO7VYXu31t",
      "include_colab_link": true
    },
    "kernelspec": {
      "name": "python3",
      "display_name": "Python 3"
    },
    "language_info": {
      "name": "python"
    }
  },
  "cells": [
    {
      "cell_type": "markdown",
      "metadata": {
        "id": "view-in-github",
        "colab_type": "text"
      },
      "source": [
        "<a href=\"https://colab.research.google.com/github/shreesowndarya/CASCADE/blob/master/class-1/google_collar_class1.ipynb\" target=\"_parent\"><img src=\"https://colab.research.google.com/assets/colab-badge.svg\" alt=\"Open In Colab\"/></a>"
      ]
    },
    {
      "cell_type": "markdown",
      "source": [
        "# Conda\n",
        "\n",
        "#### Why we need conda and different modules"
      ],
      "metadata": {
        "id": "fCFI7DF4E4no"
      }
    },
    {
      "cell_type": "markdown",
      "source": [
        "#### Example 1. Distance"
      ],
      "metadata": {
        "id": "2TqwpNmBCgNP"
      }
    },
    {
      "cell_type": "code",
      "source": [
        "# point a - (2,3)\n",
        "\n",
        "# point b - (5,7)\n",
        "\n",
        "# distance b/w a and b\n",
        "distance = ((2 - 5)**2 + (5- 7)**2)**0.5\n",
        "\n",
        "# display the result\n",
        "print(distance)"
      ],
      "metadata": {
        "colab": {
          "base_uri": "https://localhost:8080/"
        },
        "id": "BigoCqNjCeMC",
        "outputId": "40e5d0f1-94b5-40f1-b886-12ccf89a4405"
      },
      "execution_count": 7,
      "outputs": [
        {
          "output_type": "stream",
          "name": "stdout",
          "text": [
            "3.605551275463989\n"
          ]
        }
      ]
    },
    {
      "cell_type": "markdown",
      "source": [
        "##### If we want to use something already exsisting\n",
        "\n",
        "\n",
        "\n"
      ],
      "metadata": {
        "id": "SGa8QP_QC0in"
      }
    },
    {
      "cell_type": "code",
      "source": [
        "import numpy as np\n",
        "\n",
        "# two points\n",
        "a = np.array((2, 3, 6))\n",
        "b = np.array((5, 7, 1))\n",
        "\n",
        "# distance b/w a and b\n",
        "d = np.linalg.norm(a-b)\n",
        "\n",
        "# display the result\n",
        "print(d)"
      ],
      "metadata": {
        "colab": {
          "base_uri": "https://localhost:8080/"
        },
        "id": "linSoLrUCZ6b",
        "outputId": "493486ac-731c-4620-cf92-37b582baf1a5"
      },
      "execution_count": 8,
      "outputs": [
        {
          "output_type": "stream",
          "name": "stdout",
          "text": [
            "7.0710678118654755\n"
          ]
        }
      ]
    },
    {
      "cell_type": "markdown",
      "source": [
        "##### Why is this good?\n",
        "\n",
        "\n",
        "*   Reproducible\n",
        "*   Time saving\n",
        "\n",
        "##### How were we able to get exisiting code?\n",
        "\n",
        "\n",
        "*   Google collab has basic code that can be inported\n",
        "*   numpy, math etc.,\n",
        "\n",
        "##### What about modules not on here already?\n",
        "\n",
        "*   We will need to install them by ourself\n",
        "*   pip, conda\n",
        "\n",
        "\n",
        "\n",
        "\n",
        "\n"
      ],
      "metadata": {
        "id": "UpelQsf_GPFY"
      }
    },
    {
      "cell_type": "code",
      "source": [
        "!pip install pybabel"
      ],
      "metadata": {
        "colab": {
          "base_uri": "https://localhost:8080/"
        },
        "id": "DhCYniXxGuaq",
        "outputId": "1ab2f351-130a-46a7-8607-bfd625824736"
      },
      "execution_count": 11,
      "outputs": [
        {
          "output_type": "stream",
          "name": "stdout",
          "text": [
            "Looking in indexes: https://pypi.org/simple, https://us-python.pkg.dev/colab-wheels/public/simple/\n",
            "Collecting pybabel\n",
            "  Downloading pybabel-0.0.0.dev0-py3-none-any.whl (2.5 kB)\n",
            "Installing collected packages: pybabel\n",
            "Successfully installed pybabel-0.0.0.dev0\n"
          ]
        }
      ]
    },
    {
      "cell_type": "code",
      "source": [
        "!pip install rdkit"
      ],
      "metadata": {
        "colab": {
          "base_uri": "https://localhost:8080/"
        },
        "id": "d2A6BWGMG-SI",
        "outputId": "252f454b-6296-4edd-b934-ca54d467de64"
      },
      "execution_count": 10,
      "outputs": [
        {
          "output_type": "stream",
          "name": "stdout",
          "text": [
            "Looking in indexes: https://pypi.org/simple, https://us-python.pkg.dev/colab-wheels/public/simple/\n",
            "Collecting rdkit\n",
            "  Downloading rdkit-2022.3.4-cp37-cp37m-manylinux_2_17_x86_64.manylinux2014_x86_64.whl (22.7 MB)\n",
            "\u001b[K     |████████████████████████████████| 22.7 MB 1.4 MB/s \n",
            "\u001b[?25hRequirement already satisfied: Pillow in /usr/local/lib/python3.7/dist-packages (from rdkit) (7.1.2)\n",
            "Requirement already satisfied: numpy in /usr/local/lib/python3.7/dist-packages (from rdkit) (1.21.6)\n",
            "Installing collected packages: rdkit\n",
            "Successfully installed rdkit-2022.3.4\n"
          ]
        }
      ]
    },
    {
      "cell_type": "code",
      "source": [
        "!pip install numpy"
      ],
      "metadata": {
        "colab": {
          "base_uri": "https://localhost:8080/"
        },
        "id": "4VfZNEY3G1Om",
        "outputId": "0697121c-4a0f-4c26-a468-a6f7ea3c52b6"
      },
      "execution_count": 6,
      "outputs": [
        {
          "output_type": "stream",
          "name": "stdout",
          "text": [
            "Looking in indexes: https://pypi.org/simple, https://us-python.pkg.dev/colab-wheels/public/simple/\n",
            "Requirement already satisfied: numpy in /usr/local/lib/python3.7/dist-packages (1.21.6)\n"
          ]
        }
      ]
    },
    {
      "cell_type": "markdown",
      "source": [
        "##### Now we dont want to be doing this every time!\n",
        "\n",
        "*   create a environment which has everything for a given project\n",
        "*   can create multiple envirnments\n",
        "\n"
      ],
      "metadata": {
        "id": "zdcF56HHHh5l"
      }
    },
    {
      "cell_type": "markdown",
      "source": [
        "## Setup Anaconda"
      ],
      "metadata": {
        "id": "YgKKREFBIUsl"
      }
    },
    {
      "cell_type": "markdown",
      "source": [
        "https://docs.anaconda.com/anaconda/install/windows/"
      ],
      "metadata": {
        "id": "DbH4a2DCIXf_"
      }
    },
    {
      "cell_type": "markdown",
      "source": [
        "Install it following the steps (5 mins)"
      ],
      "metadata": {
        "id": "p04PoJE6IiHO"
      }
    },
    {
      "cell_type": "markdown",
      "source": [
        "#### Open terminal \n",
        "\n",
        "*   conda -h\n",
        "*   conda init\n",
        "\n"
      ],
      "metadata": {
        "id": "22-YoxKNIpsV"
      }
    },
    {
      "cell_type": "code",
      "source": [
        ""
      ],
      "metadata": {
        "id": "LSFDoppSG68j"
      },
      "execution_count": 6,
      "outputs": []
    }
  ]
}